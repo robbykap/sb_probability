{
 "cells": [
  {
   "cell_type": "markdown",
   "id": "57e9398f7c86cd6f",
   "metadata": {},
   "source": [
    "# **Stolen Base Probability Sklearn**"
   ]
  },
  {
   "cell_type": "markdown",
   "id": "a44fa5dd",
   "metadata": {},
   "source": [
    "## **Table of Contents**\n",
    "\n",
    "- **[Imports](#imports)** - Project Imports\n",
    "- **[Globals](#globals)** - Global Arguments for Learning\n",
    "- **[Utils](#utils)** - Functions to Assist with Learning "
   ]
  },
  {
   "cell_type": "markdown",
   "id": "41fcfbd1",
   "metadata": {},
   "source": [
    "## **Imports**"
   ]
  },
  {
   "cell_type": "code",
   "id": "0b43f3fb",
   "metadata": {
    "vscode": {
     "languageId": "plaintext"
    },
    "ExecuteTime": {
     "end_time": "2025-06-06T06:05:29.025580Z",
     "start_time": "2025-06-06T06:05:24.750643Z"
    }
   },
   "source": [
    "import numpy as np\n",
    "import matplotlib.pyplot as plt\n",
    "\n",
    "import pandas as pd\n",
    "\n",
    "from sklearn.model_selection import train_test_split\n",
    "from sklearn.ensemble import GradientBoostingClassifier\n"
   ],
   "outputs": [],
   "execution_count": 1
  },
  {
   "cell_type": "markdown",
   "id": "1c659500",
   "metadata": {},
   "source": [
    "## **Globals**"
   ]
  },
  {
   "cell_type": "code",
   "execution_count": null,
   "id": "5a4d4f16",
   "metadata": {
    "vscode": {
     "languageId": "plaintext"
    }
   },
   "outputs": [],
   "source": []
  },
  {
   "cell_type": "markdown",
   "id": "db81a463",
   "metadata": {},
   "source": [
    "## **Utils**"
   ]
  },
  {
   "cell_type": "code",
   "execution_count": null,
   "id": "8ce10c45",
   "metadata": {
    "vscode": {
     "languageId": "plaintext"
    }
   },
   "outputs": [],
   "source": []
  },
  {
   "metadata": {},
   "cell_type": "markdown",
   "source": "## **Data Preparation**",
   "id": "6b0a8c5fda5bea46"
  },
  {
   "metadata": {},
   "cell_type": "code",
   "outputs": [],
   "execution_count": null,
   "source": [
    "# Load the dataset\n",
    "data = pd.read_csv('data/sb_data_complete/sb_data_2022-2025.csv')\n",
    "\n",
    "# Process the input features\n",
    "X = data.drop(columns=['result']) # Drop the target column\n",
    "X = data.drop(columns=['date', 'runner_stealing_runs', 'match_up', 'call', 'video_link']) # Drop non-feature columns\n",
    "\n",
    "# Process the target output\n",
    "y = data['result'].apply(lambda x: 1 if x == 'SB' else 0) # Convert to binary classification\n",
    "\n",
    "# Split the data into training and testing sets\n",
    "X_train, X_test, y_train, y_test = train_test_split(X, y, test_size=0.2, random_state=42)"
   ],
   "id": "1a463056255e5a7e"
  },
  {
   "metadata": {},
   "cell_type": "markdown",
   "source": "## **Gradient Boosting Classifier**",
   "id": "63f116261452e3"
  },
  {
   "metadata": {},
   "cell_type": "code",
   "outputs": [],
   "execution_count": null,
   "source": [
    "model = GradientBoostingClassifier(\n",
    "    n_estimators=100,\n",
    "    learning_rate=0.1,\n",
    "    max_depth=3,\n",
    "    random_state=42\n",
    ")\n",
    "\n",
    "model.fit(X_train, y_train)"
   ],
   "id": "47dbc01c05cba720"
  },
  {
   "metadata": {},
   "cell_type": "markdown",
   "source": "## **Model Evaluation**",
   "id": "818f1aa9682b76bd"
  },
  {
   "metadata": {},
   "cell_type": "code",
   "outputs": [],
   "execution_count": null,
   "source": [
    "# Evaluate the model on the test set\n",
    "accuracy = model.score(X_test, y_test)\n",
    "print(f\"Model Accuracy: {accuracy:.2f}\")"
   ],
   "id": "ccd0cbb4a0da5ce1"
  }
 ],
 "metadata": {
  "language_info": {
   "name": "python"
  },
  "kernelspec": {
   "name": "python3",
   "language": "python",
   "display_name": "Python 3 (ipykernel)"
  }
 },
 "nbformat": 5,
 "nbformat_minor": 9
}
