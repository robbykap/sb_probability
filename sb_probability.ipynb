{
 "cells": [
  {
   "cell_type": "markdown",
   "metadata": {},
   "source": [
    "# **Stolen Base Proabability**"
   ]
  },
  {
   "cell_type": "markdown",
   "metadata": {},
   "source": [
    "## **Table of Contents**\n",
    "\n",
    "- **[Imports and Installations](#imports-and-installations)** - Project Imports and Installations\n",
    "- **[Globals](#globals)** - Global Arguments for Learning\n",
    "- **[Utils](#utils)** - Functions to Assist with Learning \n",
    "- **[Create Player DF](#create-player-df)** - Creating the Necessary DataFrames for Learning\n",
    "- **[Lead Distance](#lead-distance)** - Learn Players Lead Distance at Release\n",
    "    - **[Runner and Pitcher DataFrames](#runner-and-pitcher-dataframes)** - Appropriate DataFrames for Learning Lead Distance\n",
    "    - **[Prep Lead Distance DataFrame](#prep-lead-distance-dataframe)** - Preping the Lead Distance DataFrame for Learning\n",
    "    - **[Learn Lead Distance](#learn-lead-distance)** - Function to Learn the Seconday Lead Distance of a Runner and Pitcher Matchup"
   ]
  },
  {
   "cell_type": "markdown",
   "metadata": {},
   "source": [
    "## **Imports and Installations**"
   ]
  },
  {
   "cell_type": "code",
   "execution_count": null,
   "metadata": {},
   "outputs": [],
   "source": [
    "%pip install numpy==1.26.0\n",
    "%pip install numpyro\n",
    "%pip install pymc==5.9.0"
   ]
  },
  {
   "cell_type": "code",
   "execution_count": 48,
   "metadata": {},
   "outputs": [],
   "source": [
    "# ------------------------- Standard library imports ------------------------- #\n",
    "import os  \n",
    "from pathlib import Path \n",
    "\n",
    "# ---------------- Scientific computing and data manipulation ---------------- #\n",
    "import numpy as np  \n",
    "import pandas as pd  \n",
    "from scipy.stats import norm \n",
    "\n",
    "# ------------------------------- Visualization ------------------------------ #\n",
    "from tqdm import tqdm\n",
    "from matplotlib import pyplot as plt  \n",
    "\n",
    "# ----------------------------- Bayesian modeling ---------------------------- #\n",
    "import pymc as pm  \n",
    "import pymc.sampling.jax as pmjax\n",
    "\n",
    "# ------------------------------- Local import ------------------------------- #\n",
    "from stolen_base.utils import get_player_speed"
   ]
  },
  {
   "cell_type": "markdown",
   "metadata": {},
   "source": [
    "## **Globals**"
   ]
  },
  {
   "cell_type": "code",
   "execution_count": 49,
   "metadata": {},
   "outputs": [],
   "source": [
    "YEARS = \"2022-2025\"\n",
    "MPH_FT_PER_SEC_MULTIPLE = 1.4666667\n",
    "PLATE_DISTANCE = 90  # feet"
   ]
  },
  {
   "cell_type": "markdown",
   "metadata": {},
   "source": [
    "## **Utils**"
   ]
  },
  {
   "cell_type": "code",
   "execution_count": 50,
   "metadata": {},
   "outputs": [],
   "source": [
    "def create_index_df(df: pd.DataFrame, col_name: str, col_index: str, file_path: str):\n",
    "    \"\"\"\n",
    "    Create an index DataFrame mapping an index to a specific value in a given column\n",
    "    \n",
    "    Args:\n",
    "        df (pd.DataFrame): The input DataFrame containing the data.\n",
    "        col_name (str): The column to map unique index vlaues\n",
    "        col_index (str): The name of the index column to be created.\n",
    "        file_path (str): The path where the index DataFrame will be saved.\n",
    "    \"\"\"\n",
    "    items = set(df[col_name].unique().astype(int))\n",
    "    index_df = pd.DataFrame({\n",
    "        f'{col_index}': np.arange(len(items)),\n",
    "        f'{col_name}': list(items)\n",
    "    })\n",
    "    os.makedirs(os.path.dirname(file_path), exist_ok=True)\n",
    "    index_df.to_csv(file_path, index=False)"
   ]
  },
  {
   "cell_type": "markdown",
   "metadata": {},
   "source": [
    "## **Create Player DF**"
   ]
  },
  {
   "cell_type": "code",
   "execution_count": null,
   "metadata": {},
   "outputs": [],
   "source": [
    "sb_data = pd.read_csv(f'data/sb_data_{YEARS}.csv')\n",
    "\n",
    "# Player Index DataFrames\n",
    "create_index_df(sb_data, col_name='catcher_id', col_index='catcher_index', file_path=Path('data/player_index/catcher_index.csv'))\n",
    "create_index_df(sb_data, col_name='pitcher_id', col_index='pitcher_index', file_path=Path('data/player_index/pitcher_index.csv'))\n",
    "create_index_df(sb_data, col_name='runner_id', col_index='runner_index', file_path=Path('data/player_index/runner_index.csv'))\n",
    "create_index_df(sb_data, col_name='batter_id', col_index='batter_index', file_path=Path('data/player_index/batter_index.csv'))\n",
    "create_index_df(sb_data, col_name='fielder_id', col_index='fielder_index', file_path=Path('data/player_index/fielder_index.csv'))\n",
    "\n",
    "# Runner Speed DataFrame\n",
    "players = set(sb_data['runner_id'].unique().astype(int))\n",
    "player_speed_df = pd.DataFrame({\n",
    "    'runner_id': list(players),\n",
    "    'mu_runner_speed': [round(get_player_speed(player)['sprint_speed'].mean(), 3) for player in players]\n",
    "})\n",
    "player_speed_df.to_csv(Path('data/player_speed.csv'), index=False)"
   ]
  },
  {
   "cell_type": "markdown",
   "metadata": {},
   "source": [
    "## **Lead Distance**\n",
    "\n",
    "Learn a base runners average lead distance gained from first movement of the \n",
    "pitcher to the time the ball was release. Which will assist in learning a pitchers \n",
    "windup time."
   ]
  },
  {
   "cell_type": "markdown",
   "metadata": {},
   "source": [
    "### **Runner and Pitcher DataFrames**"
   ]
  },
  {
   "cell_type": "code",
   "execution_count": 51,
   "metadata": {},
   "outputs": [],
   "source": [
    "# Player Index DataFrames\n",
    "pitcher_index_df = pd.read_csv(Path('data/player_index/pitcher_index.csv'))\n",
    "runner_index_df = pd.read_csv(Path('data/player_index/runner_index.csv'))\n",
    "\n",
    "# Player Speed DataFrame\n",
    "player_speed_df = pd.read_csv(Path('data/player_speed.csv'))"
   ]
  },
  {
   "cell_type": "markdown",
   "metadata": {},
   "source": [
    "### **Prep Lead Distance DataFrame**"
   ]
  },
  {
   "cell_type": "code",
   "execution_count": 52,
   "metadata": {},
   "outputs": [],
   "source": [
    "# Build lead distance DataFrame\n",
    "lead_distance_df = sb_data[['pitcher_id', 'runner_id', 'lead_distance_gained', 'at_pitchers_first_move', 'at_pitch_release']]\n",
    "\n",
    "# Add pitcher and runner indices\n",
    "lead_distance_df = lead_distance_df.merge(pitcher_index_df, on='pitcher_id', how='left')\n",
    "lead_distance_df = lead_distance_df.merge(runner_index_df, on='runner_id', how='left')\n",
    "\n",
    "# Add runners average speed\n",
    "lead_distance_df = lead_distance_df.merge(player_speed_df, on='runner_id', how='left')"
   ]
  },
  {
   "cell_type": "markdown",
   "metadata": {},
   "source": [
    "### **Learn Lead Distance**"
   ]
  },
  {
   "cell_type": "code",
   "execution_count": null,
   "metadata": {},
   "outputs": [],
   "source": [
    "def learn_lead_distance(\n",
    "        df: pd.DataFrame,\n",
    "        n_pitchers: int, \n",
    "        n_runners: int,\n",
    "        mu_mu_estimate: int,\n",
    "        mu_sigma_estimate: int,\n",
    "        sigma_mu_estimate: int,\n",
    "        sigma_sigma_estimate: int,\n",
    "        lower_confidence: float = None,\n",
    "        upper_confidence: float = None,\n",
    "        tune: int = 2000,\n",
    "        n_samples: int = 2000,\n",
    "        n_chains: int = 4,\n",
    "):\n",
    "    \"\"\"\n",
    "    Learn the the seconary lead distance of a runner against a specific pitcher.\n",
    "    \n",
    "    Args:\n",
    "        df (pd.DataFrame): The input DataFrame containing the data.\n",
    "        n_pitchers (int): The number of unique pitchers.\n",
    "        n_runners (int): The number of unique runners.\n",
    "        mu_mu_estimate (int): The hyper-prior mean for the secondary lead distance.\n",
    "        mu_sigma_estimate (int): The hyper-prior standard deviation for the secondary lead distance.\n",
    "        sigma_mu_estimate (int): The hyper-prior mean for the standard deviation of the secondary lead distance.\n",
    "        sigma_sigma_estimate (int): The hyper-prior standard deviation for the standard deviation of the secondary lead distance.\n",
    "        lower_confidence (float, optional): The lower confidence interval for the posterior distribution.\n",
    "        upper_confidence (float, optional): The upper confidence interval for the posterior distribution.\n",
    "        tune (int, optional): The number of tuning steps.\n",
    "        n_samples (int, optional): The number of samples to draw from the posterior distribution.\n",
    "        n_chains (int, optional): The number of chains to use for sampling.\n",
    "    \"\"\"\n",
    "    # Fit model\n",
    "    coords = {\n",
    "        \"pitcher\": np.arange(n_pitchers),\n",
    "        \"runner\": np.arange(n_runners),\n",
    "        \"observation\": np.arange(df.shape[0])\n",
    "        }\n",
    "\n",
    "    with pm.Model(coords=coords) as mod:\n",
    "        # Extract pitcher, runner indices, and secondary lead distance ('at_pitch_release')\n",
    "        pitcher_index = pm.ConstantData(\"pitcher_index\", df['pitcher_index'].values)\n",
    "        runner_index = pm.ConstantData(\"runner_index\", df['runner_index'].values)\n",
    "        lead_distance = pm.ConstantData(\"secondary_lead\", df['at_pitch_release'].values)\n",
    "\n",
    "        # Priors for secondary lead mu\n",
    "\n",
    "        # Priors of secondary lead sigma\n",
    "\n",
    "        # Sample distribution for each runner\n",
    "\n",
    "        # Likelihood of the observed data\n",
    "    \n",
    "    # Train model\n",
    "    with mod:\n",
    "        trace = pmjax.sample_numpyro_nuts(\n",
    "            n_samples,\n",
    "            tune=tune,\n",
    "            chains=n_chains,\n",
    "        )\n",
    "        \n",
    "    return trace"
   ]
  }
 ],
 "metadata": {
  "kernelspec": {
   "display_name": "base",
   "language": "python",
   "name": "python3"
  },
  "language_info": {
   "codemirror_mode": {
    "name": "ipython",
    "version": 3
   },
   "file_extension": ".py",
   "mimetype": "text/x-python",
   "name": "python",
   "nbconvert_exporter": "python",
   "pygments_lexer": "ipython3",
   "version": "3.11.5"
  }
 },
 "nbformat": 4,
 "nbformat_minor": 2
}
